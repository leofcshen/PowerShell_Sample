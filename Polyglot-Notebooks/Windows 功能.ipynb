{
 "cells": [
  {
   "cell_type": "markdown",
   "metadata": {},
   "source": [
    "# Windows 功能"
   ]
  },
  {
   "cell_type": "code",
   "execution_count": 1,
   "metadata": {
    "dotnet_interactive": {
     "language": "pwsh"
    },
    "polyglot_notebook": {
     "kernelName": "pwsh"
    },
    "vscode": {
     "languageId": "polyglot-notebook"
    }
   },
   "outputs": [
    {
     "name": "stdout",
     "output_type": "stream",
     "text": [
      "\n",
      "\u001b[32;1mFeatureName : \u001b[0mSMB1Protocol\n",
      "\u001b[32;1mState       : \u001b[0mDisabled\n",
      "\n",
      "\u001b[32;1mFeatureName : \u001b[0mSMB1Protocol-Client\n",
      "\u001b[32;1mState       : \u001b[0mDisabled\n",
      "\n",
      "\u001b[32;1mFeatureName : \u001b[0mSMB1Protocol-Server\n",
      "\u001b[32;1mState       : \u001b[0mDisabled\n",
      "\n",
      "\u001b[32;1mFeatureName : \u001b[0mSMB1Protocol-Deprecation\n",
      "\u001b[32;1mState       : \u001b[0mDisabled\n",
      "\n",
      "\n"
     ]
    }
   ],
   "source": [
    "Get-WindowsOptionalFeature -Online | Where FeatureName -Like *SMB1Protocol*"
   ]
  },
  {
   "cell_type": "code",
   "execution_count": 2,
   "metadata": {
    "dotnet_interactive": {
     "language": "pwsh"
    },
    "polyglot_notebook": {
     "kernelName": "pwsh"
    },
    "vscode": {
     "languageId": "polyglot-notebook"
    }
   },
   "outputs": [
    {
     "name": "stdout",
     "output_type": "stream",
     "text": [
      "\n",
      "\u001b[32;1mFeatureName : \u001b[0mSMB1Protocol\n",
      "\u001b[32;1mState       : \u001b[0mDisabled\n",
      "\n",
      "\n"
     ]
    }
   ],
   "source": [
    "Get-WindowsOptionalFeature -Online | Where FeatureName -EQ SMB1Protocol"
   ]
  },
  {
   "cell_type": "code",
   "execution_count": 3,
   "metadata": {
    "dotnet_interactive": {
     "language": "pwsh"
    },
    "polyglot_notebook": {
     "kernelName": "pwsh"
    },
    "vscode": {
     "languageId": "polyglot-notebook"
    }
   },
   "outputs": [
    {
     "name": "stdout",
     "output_type": "stream",
     "text": [
      "\n",
      "\u001b[32;1mFeatureName      : \u001b[0mSMB1Protocol\n",
      "\u001b[32;1mDisplayName      : \u001b[0mSMB 1.0/CIFS 檔案共用支援\n",
      "\u001b[32;1mDescription      : \u001b[0mSMB 1.0/CIFS 檔案共用通訊協定與「電腦瀏覽器」通訊協定的支援。\n",
      "\u001b[32;1mRestartRequired  : \u001b[0mPossible\n",
      "\u001b[32;1mState            : \u001b[0mDisabled\n",
      "\u001b[32;1mCustomProperties : \u001b[0m\n",
      "                   ServerComponent\\Description : SMB 1.0/CIFS \n",
      "                   檔案共用通訊協定與「電腦瀏覽器」通訊協定的支援。\n",
      "                   ServerComponent\\DisplayName : SMB 1.0/CIFS 檔案共用支援\n",
      "                   ServerComponent\\Id : 487\n",
      "                   ServerComponent\\Type : Feature\n",
      "                   ServerComponent\\UniqueName : FS-SMB1\n",
      "                   ServerComponent\\Deploys\\Update\\Name : SMB1Protocol\n",
      "                   \n",
      "\n",
      "\u001b[32;1mFeatureName      : \u001b[0mSMB1Protocol-Client\n",
      "\u001b[32;1mDisplayName      : \u001b[0mSMB 1.0/CIFS 用戶端\n",
      "\u001b[32;1mDescription      : \u001b[0mSMB 1.0/CIFS 用戶端存取舊版伺服器的支援。\n",
      "\u001b[32;1mRestartRequired  : \u001b[0mPossible\n",
      "\u001b[32;1mState            : \u001b[0mDisabled\n",
      "\u001b[32;1mCustomProperties : \u001b[0m\n",
      "                   ServerComponent\\Description : SMB 1.0/CIFS 用戶端存取舊版伺服器的支援。\n",
      "                   ServerComponent\\DisplayName : SMB 1.0/CIFS 用戶端\n",
      "                   ServerComponent\\Id : 1034\n",
      "                   ServerComponent\\InstallWithParentByDefault : true\n",
      "                   ServerComponent\\Parent : FS-SMB1\n",
      "                   ServerComponent\\Type : Feature\n",
      "                   ServerComponent\\UniqueName : FS-SMB1-CLIENT\n",
      "                   ServerComponent\\Deploys\\Update\\Name : SMB1Protocol-Client\n",
      "                   \n",
      "\n",
      "\u001b[32;1mFeatureName      : \u001b[0mSMB1Protocol-Server\n",
      "\u001b[32;1mDisplayName      : \u001b[0mSMB 1.0/CIFS 伺服器\n",
      "\u001b[32;1mDescription      : \u001b[0mSMB 1.0/CIFS 檔案伺服器與舊版用戶端共用資料及瀏覽網路上的芳鄰的支援。\n",
      "\u001b[32;1mRestartRequired  : \u001b[0mPossible\n",
      "\u001b[32;1mState            : \u001b[0mDisabled\n",
      "\u001b[32;1mCustomProperties : \u001b[0m\n",
      "                   ServerComponent\\Description : SMB 1.0/CIFS \n",
      "                   檔案伺服器與舊版用戶端共用資料及瀏覽網路上的芳鄰的支援。\n",
      "                   ServerComponent\\DisplayName : SMB 1.0/CIFS 伺服器\n",
      "                   ServerComponent\\Id : 1035\n",
      "                   ServerComponent\\InstallWithParentByDefault : true\n",
      "                   ServerComponent\\Parent : FS-SMB1\n",
      "                   ServerComponent\\Type : Feature\n",
      "                   ServerComponent\\UniqueName : FS-SMB1-SERVER\n",
      "                   ServerComponent\\Deploys\\Update\\Name : SMB1Protocol-Server\n",
      "                   \n",
      "\n",
      "\u001b[32;1mFeatureName      : \u001b[0mSMB1Protocol-Deprecation\n",
      "\u001b[32;1mDisplayName      : \u001b[0mSMB 1.0/CIFS 自動移除\n",
      "\u001b[32;1mDescription      : \u001b[0m在一般系統使用時若不主動需要舊版 SMB 1.0/CIFS \n",
      "                   通訊協定的支援，即自動移除這類支援。\n",
      "\u001b[32;1mRestartRequired  : \u001b[0mPossible\n",
      "\u001b[32;1mState            : \u001b[0mDisabled\n",
      "\u001b[32;1mCustomProperties : \u001b[0m\n",
      "                   \n",
      "\n",
      "\n"
     ]
    }
   ],
   "source": [
    "Get-WindowsOptionalFeature -Online -FeatureName *SMB1Protocol*"
   ]
  },
  {
   "cell_type": "code",
   "execution_count": null,
   "metadata": {
    "dotnet_interactive": {
     "language": "pwsh"
    },
    "polyglot_notebook": {
     "kernelName": "pwsh"
    },
    "vscode": {
     "languageId": "polyglot-notebook"
    }
   },
   "outputs": [],
   "source": [
    "Enable-WindowsOptionalFeature -Online -FeatureName XXXX -NoRestart\n",
    "Disable-WindowsOptionalFeature -Online -FeatureName XXXX -NoRestart"
   ]
  }
 ],
 "metadata": {
  "language_info": {
   "name": "python"
  }
 },
 "nbformat": 4,
 "nbformat_minor": 2
}
